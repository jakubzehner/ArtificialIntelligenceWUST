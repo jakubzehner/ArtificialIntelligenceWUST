{
 "cells": [
  {
   "cell_type": "code",
   "execution_count": null,
   "metadata": {},
   "outputs": [],
   "source": [
    "from sentence_transformers import SentenceTransformer\n",
    "import pandas as pd\n",
    "from sklearn.metrics import mean_squared_error\n",
    "from sklearn.model_selection import train_test_split\n",
    "import numpy as np\n",
    "import matplotlib.pyplot as plt\n",
    "from sklearn.neural_network import MLPRegressor\n",
    "from bs4 import BeautifulSoup"
   ]
  },
  {
   "cell_type": "code",
   "execution_count": null,
   "metadata": {},
   "outputs": [],
   "source": [
    "ratings = []\n",
    "for i in range(1, 4):\n",
    "    rating = pd.read_excel(f'data/jester-data-{i}.xls', header=None)\n",
    "    rating = rating.iloc[:, 1:].replace(99, float('NaN'))\n",
    "    ratings.append(rating)\n",
    "\n",
    "df = pd.concat(ratings)\n"
   ]
  },
  {
   "cell_type": "code",
   "execution_count": null,
   "metadata": {},
   "outputs": [],
   "source": [
    "df.describe"
   ]
  },
  {
   "cell_type": "code",
   "execution_count": null,
   "metadata": {},
   "outputs": [],
   "source": [
    "df = df.mean()"
   ]
  },
  {
   "cell_type": "code",
   "execution_count": null,
   "metadata": {},
   "outputs": [],
   "source": [
    "df.describe"
   ]
  },
  {
   "cell_type": "code",
   "execution_count": null,
   "metadata": {},
   "outputs": [],
   "source": [
    "jokes_data = []\n",
    "\n",
    "for i in range(1, 101):\n",
    "    file_name = f'data/jokes/init{i}.html'\n",
    "    with open(file_name, 'r') as file:\n",
    "        joke_html = file.read()\n",
    "        soup = BeautifulSoup(joke_html, 'html.parser')\n",
    "        joke_text = soup.find('font', size='+1').text.strip()\n",
    "        jokes_data.append(joke_text)"
   ]
  },
  {
   "cell_type": "code",
   "execution_count": null,
   "metadata": {},
   "outputs": [],
   "source": [
    "sentence_transformer = SentenceTransformer('bert-base-cased')\n",
    "jokes = sentence_transformer.encode(jokes_data)"
   ]
  },
  {
   "cell_type": "code",
   "execution_count": null,
   "metadata": {},
   "outputs": [],
   "source": [
    "print(jokes)"
   ]
  },
  {
   "cell_type": "code",
   "execution_count": null,
   "metadata": {},
   "outputs": [],
   "source": [
    "train_X, val_X, train_y, val_y = train_test_split(\n",
    "    jokes, \n",
    "    df, \n",
    "    test_size=0.3, \n",
    "    random_state=100)\n",
    "print(\"Train X shape:\", train_X.shape)\n",
    "print(\"Train y shape:\", train_y.shape)\n",
    "print(\"Validation X shape:\", val_X.shape)\n",
    "print(\"Validation y shape:\", val_y.shape)"
   ]
  },
  {
   "cell_type": "code",
   "execution_count": null,
   "metadata": {},
   "outputs": [],
   "source": [
    "def run_mlp_regressor(learning_rate=0.0001, hidden_layers=(10,), epochs = 250):\n",
    "    mlp = MLPRegressor(solver='sgd',\n",
    "                       alpha=0.0,\n",
    "                       learning_rate='constant',\n",
    "                       learning_rate_init=learning_rate,\n",
    "                       hidden_layer_sizes=hidden_layers,\n",
    "                       random_state=0\n",
    "                       )\n",
    "    \n",
    "    train_loss = []\n",
    "    validation_loss = []\n",
    "    \n",
    "    for _ in range(epochs):\n",
    "        mlp.partial_fit(train_X, train_y)\n",
    "        \n",
    "        pred_train_y = mlp.predict(train_X)\n",
    "        train_loss.append(mean_squared_error(train_y, pred_train_y))\n",
    "\n",
    "        pred_val_y = mlp.predict(val_X)\n",
    "        validation_loss.append(mean_squared_error(val_y, pred_val_y))\n",
    "        \n",
    "    return (train_loss, validation_loss)"
   ]
  },
  {
   "cell_type": "code",
   "execution_count": null,
   "metadata": {},
   "outputs": [],
   "source": [
    "train_loss, validation_loss = run_mlp_regressor(0.0001, (10, ), 1000)\n",
    "\n",
    "plt.plot(range(len(train_loss)), train_loss, label=f'Train Loss')\n",
    "plt.plot(range(len(validation_loss)), validation_loss, label=f'Validation Loss')\n",
    "plt.legend()\n",
    "plt.show()"
   ]
  },
  {
   "cell_type": "code",
   "execution_count": null,
   "metadata": {},
   "outputs": [],
   "source": [
    "train_loss, validation_loss = run_mlp_regressor(0.0001, (10, 10), 1000)\n",
    "\n",
    "plt.plot(range(len(train_loss)), train_loss, label=f'Train Loss')\n",
    "plt.plot(range(len(validation_loss)), validation_loss, label=f'Validation Loss')\n",
    "plt.legend()\n",
    "plt.show()"
   ]
  },
  {
   "cell_type": "code",
   "execution_count": null,
   "metadata": {},
   "outputs": [],
   "source": [
    "train_loss, validation_loss = run_mlp_regressor(0.0001, (10, 10, 10), 1000)\n",
    "\n",
    "plt.plot(range(len(train_loss)), train_loss, label=f'Train Loss')\n",
    "plt.plot(range(len(validation_loss)), validation_loss, label=f'Validation Loss')\n",
    "plt.legend()\n",
    "plt.show()"
   ]
  },
  {
   "cell_type": "code",
   "execution_count": null,
   "metadata": {},
   "outputs": [],
   "source": [
    "train_loss, validation_loss = run_mlp_regressor(0.0001, (50, 10), 1000)\n",
    "\n",
    "plt.plot(range(len(train_loss)), train_loss, label=f'Train Loss')\n",
    "plt.plot(range(len(validation_loss)), validation_loss, label=f'Validation Loss')\n",
    "plt.legend()\n",
    "plt.show()"
   ]
  },
  {
   "cell_type": "code",
   "execution_count": null,
   "metadata": {},
   "outputs": [],
   "source": [
    "train_loss, validation_loss = run_mlp_regressor(0.0001, (100, 50, 5), 1000)\n",
    "\n",
    "plt.plot(range(len(train_loss)), train_loss, label=f'Train Loss')\n",
    "plt.plot(range(len(validation_loss)), validation_loss, label=f'Validation Loss')\n",
    "plt.legend()\n",
    "plt.show()"
   ]
  }
 ],
 "metadata": {
  "kernelspec": {
   "display_name": "Python 3",
   "language": "python",
   "name": "python3"
  },
  "language_info": {
   "codemirror_mode": {
    "name": "ipython",
    "version": 3
   },
   "file_extension": ".py",
   "mimetype": "text/x-python",
   "name": "python",
   "nbconvert_exporter": "python",
   "pygments_lexer": "ipython3",
   "version": "3.10.8"
  }
 },
 "nbformat": 4,
 "nbformat_minor": 2
}
