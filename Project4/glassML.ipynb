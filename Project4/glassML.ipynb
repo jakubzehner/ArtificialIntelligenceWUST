{
 "cells": [
  {
   "attachments": {},
   "cell_type": "markdown",
   "metadata": {},
   "source": [
    "# Imports"
   ]
  },
  {
   "cell_type": "code",
   "execution_count": null,
   "metadata": {},
   "outputs": [],
   "source": [
    "import math as math\n",
    "import numpy as np\n",
    "import pandas as pd\n",
    "import matplotlib.pyplot as plt\n",
    "import matplotlib\n",
    "import seaborn as sns\n",
    "\n",
    "from sklearn.model_selection import train_test_split, GridSearchCV\n",
    "from sklearn.pipeline import Pipeline, make_pipeline\n",
    "from sklearn.impute import SimpleImputer, KNNImputer\n",
    "from sklearn.feature_selection import VarianceThreshold, SelectKBest\n",
    "from sklearn.preprocessing import StandardScaler, Normalizer, KBinsDiscretizer, FunctionTransformer, RobustScaler, PowerTransformer, QuantileTransformer\n",
    "from sklearn.decomposition import PCA\n",
    "from sklearn.naive_bayes import GaussianNB\n",
    "from sklearn.tree import DecisionTreeClassifier, plot_tree\n",
    "from sklearn.svm import LinearSVC, SVC\n",
    "from sklearn.neighbors import KNeighborsClassifier\n",
    "from sklearn.ensemble import RandomForestClassifier\n",
    "from sklearn.metrics import accuracy_score, confusion_matrix, classification_report"
   ]
  },
  {
   "attachments": {},
   "cell_type": "markdown",
   "metadata": {},
   "source": [
    "# Data loading"
   ]
  },
  {
   "cell_type": "code",
   "execution_count": null,
   "metadata": {},
   "outputs": [],
   "source": [
    "data_cols = [\"RI\", \"Na\", \"Mg\", \"Al\", \"Si\", \"K\", \"Ca\", \"Ba\", \"Fe\"]\n",
    "class_col = \"class\"\n",
    "data_cols_names = {\n",
    "    \"RI\": \"współczynnik załamania\",\n",
    "    \"Na\": \"sód\",\n",
    "    \"Mg\": \"magnez\",\n",
    "    \"Al\": \"glin\",\n",
    "    \"Si\": \"krzem\",\n",
    "    \"K\": \"potas\",\n",
    "    \"Ca\": \"wapń\",\n",
    "    \"Ba\": \"bar\",\n",
    "    \"Fe\": \"żelazo\"\n",
    "    }\n",
    "col_names = [\"id\", *data_cols, class_col]\n",
    "\n",
    "file_path = \"./glass.data\"\n",
    "dataset = pd.read_csv(file_path, names=col_names)"
   ]
  },
  {
   "attachments": {},
   "cell_type": "markdown",
   "metadata": {},
   "source": [
    "# Data exploration"
   ]
  },
  {
   "cell_type": "code",
   "execution_count": null,
   "metadata": {},
   "outputs": [],
   "source": [
    "dataset.shape"
   ]
  },
  {
   "cell_type": "code",
   "execution_count": null,
   "metadata": {},
   "outputs": [],
   "source": [
    "dataset.head(10)"
   ]
  },
  {
   "cell_type": "code",
   "execution_count": null,
   "metadata": {},
   "outputs": [],
   "source": [
    "dataset.info()"
   ]
  },
  {
   "cell_type": "code",
   "execution_count": null,
   "metadata": {},
   "outputs": [],
   "source": [
    "dataset.loc[:, data_cols].describe()"
   ]
  },
  {
   "cell_type": "code",
   "execution_count": null,
   "metadata": {},
   "outputs": [],
   "source": [
    "dataset.isnull().sum()"
   ]
  },
  {
   "cell_type": "code",
   "execution_count": null,
   "metadata": {},
   "outputs": [],
   "source": [
    "dataset[class_col].value_counts().sort_index()"
   ]
  },
  {
   "cell_type": "code",
   "execution_count": null,
   "metadata": {},
   "outputs": [],
   "source": [
    "color_palette = matplotlib.colormaps[\"Dark2\"]\n",
    "\n",
    "class_values = dataset[class_col].value_counts()\n",
    "plt.bar(class_values.index, class_values.values, color=color_palette(range(len(class_values))))\n",
    "plt.ylabel('Liczba wystąpień')\n",
    "plt.xlabel('Klasa szkła')\n",
    "plt.show()"
   ]
  },
  {
   "cell_type": "code",
   "execution_count": null,
   "metadata": {},
   "outputs": [],
   "source": [
    "fig, axes = plt.subplots(nrows=3, ncols=3, figsize=(12, 12))\n",
    "\n",
    "for i, column in enumerate(data_cols):\n",
    "    ax = axes[i // 3, i % 3]\n",
    "    dataset.boxplot(column=[column], ax=ax)\n",
    "    ax.set_title(f'{data_cols_names[column].capitalize()}')\n",
    "    ax.set_ylabel('Wartość')\n",
    "\n",
    "plt.tight_layout()\n",
    "plt.show()"
   ]
  },
  {
   "cell_type": "code",
   "execution_count": null,
   "metadata": {},
   "outputs": [],
   "source": [
    "for i in range(1, 8):\n",
    "    print(f\"Glass class: {i}\")\n",
    "    fig, axes = plt.subplots(nrows=3, ncols=3, figsize=(12, 12))\n",
    "\n",
    "    for j, column in enumerate(data_cols):\n",
    "        ax = axes[j // 3, j % 3]\n",
    "        dataset[dataset[class_col] == i].boxplot(column=[column], ax=ax)\n",
    "        ax.set_title(f'{data_cols_names[column].capitalize()}')\n",
    "        ax.set_ylabel('Wartość')\n",
    "\n",
    "    plt.tight_layout()\n",
    "    plt.show()"
   ]
  },
  {
   "cell_type": "code",
   "execution_count": null,
   "metadata": {},
   "outputs": [],
   "source": [
    "sns.pairplot(dataset.loc[:, dataset.columns != 'id'], hue=\"class\", palette=\"hls\")"
   ]
  },
  {
   "cell_type": "code",
   "execution_count": null,
   "metadata": {},
   "outputs": [],
   "source": [
    "sns.heatmap(dataset[data_cols].corr(), annot=True, fmt=\".2f\", vmin=-1.0, vmax=1.0, cmap=\"viridis\")"
   ]
  },
  {
   "attachments": {},
   "cell_type": "markdown",
   "metadata": {},
   "source": [
    "# Preprocessing"
   ]
  },
  {
   "cell_type": "code",
   "execution_count": null,
   "metadata": {},
   "outputs": [],
   "source": [
    "fixed_rng = np.random.RandomState(0)\n",
    "Y = dataset[class_col]\n",
    "X_full = dataset[data_cols]\n",
    "X_missing = X_full.mask(fixed_rng.random(X_full.shape) < 0.05)\n",
    "\n",
    "X_full_train, X_full_test, Y_full_train, Y_full_test = train_test_split(X_full, Y, test_size=0.3, stratify=Y, random_state=fixed_rng)\n",
    "X_missing_train, X_missing_test, Y_missing_train, Y_missing_test = train_test_split(X_missing, Y, test_size=0.3, stratify=Y, random_state=fixed_rng)"
   ]
  },
  {
   "cell_type": "code",
   "execution_count": null,
   "metadata": {},
   "outputs": [],
   "source": [
    "Y_full_test.value_counts().sort_index()"
   ]
  },
  {
   "cell_type": "code",
   "execution_count": null,
   "metadata": {},
   "outputs": [],
   "source": [
    "Y_missing_test.value_counts().sort_index()"
   ]
  },
  {
   "cell_type": "code",
   "execution_count": null,
   "metadata": {},
   "outputs": [],
   "source": [
    "imputers = {\n",
    "    \"KNN-1\" : KNNImputer(n_neighbors=1),\n",
    "    \"KNN-2\" : KNNImputer(n_neighbors=2),\n",
    "    \"MEAN\" : SimpleImputer(strategy=\"mean\"),\n",
    "    \"MEDIAN\" : SimpleImputer(strategy=\"median\"),\n",
    "    \"MOST-FQ\" : SimpleImputer(strategy=\"most_frequent\")\n",
    "}\n",
    "\n",
    "transformers = {\n",
    "    \"NONE\" : \"passthrough\",\n",
    "    \"NORMALIZE\" : Normalizer(),\n",
    "    \"STANDARIZE\" : StandardScaler(),\n",
    "    \"DISCRETIZE-2\" : KBinsDiscretizer(n_bins=2, strategy=\"quantile\", encode=\"onehot-dense\"),\n",
    "    \"DISCRETIZE-3\" : KBinsDiscretizer(n_bins=3, strategy=\"quantile\", encode=\"onehot-dense\"),\n",
    "    \"DISCRETIZE-5\" : KBinsDiscretizer(n_bins=5, strategy=\"quantile\", encode=\"onehot-dense\"),\n",
    "    \"SELECTION-2\" : SelectKBest(k=2),\n",
    "    \"SELECTION-3\" : SelectKBest(k=3),\n",
    "    \"SELECTION-5\" : SelectKBest(k=5),\n",
    "    \"PCA\" : PCA(random_state=fixed_rng)\n",
    "}"
   ]
  },
  {
   "cell_type": "code",
   "execution_count": null,
   "metadata": {},
   "outputs": [],
   "source": [
    "sns.FacetGrid(\n",
    "    pd.concat(\n",
    "        pd.DataFrame(\n",
    "            make_pipeline(transformers[n])\n",
    "                .fit_transform(dataset[[\"Si\", \"Al\"]].to_numpy(), dataset[class_col]),\n",
    "            columns=[\"Si\", \"Al\"]\n",
    "        ).assign(**{\"transformer\": n, \"class\": dataset[class_col]})\n",
    "        for n in [\"NONE\", \"NORMALIZE\", \"STANDARIZE\", \"PCA\"]\n",
    "    ), col=\"transformer\", col_wrap=2, sharex=False, sharey=False\n",
    ").map_dataframe(sns.scatterplot, x=\"Si\", y=\"Al\", hue=\"class\", palette=\"hls\")"
   ]
  },
  {
   "attachments": {},
   "cell_type": "markdown",
   "metadata": {},
   "source": [
    "# Classification"
   ]
  },
  {
   "cell_type": "code",
   "execution_count": null,
   "metadata": {},
   "outputs": [],
   "source": [
    "classifiers = {\n",
    "    \"NAIVE-1e-3\": GaussianNB(var_smoothing=1e-3),\n",
    "    \"NAIVE-1e-5\": GaussianNB(var_smoothing=1e-5),\n",
    "    \"NAIVE-1e-8\": GaussianNB(var_smoothing=1e-8),\n",
    "    \"DECISION-TREE-3\": DecisionTreeClassifier(max_depth=3, criterion=\"entropy\", random_state=fixed_rng),\n",
    "    \"DECISION-TREE-5\": DecisionTreeClassifier(max_depth=5, criterion=\"entropy\", random_state=fixed_rng),\n",
    "    \"DECISION-TREE-8\": DecisionTreeClassifier(max_depth=8, criterion=\"entropy\", random_state=fixed_rng),\n",
    "    \"SVC\": LinearSVC(random_state=fixed_rng),\n",
    "    \"RANDOM-FOREST\": RandomForestClassifier(random_state=fixed_rng)\n",
    "}"
   ]
  },
  {
   "cell_type": "code",
   "execution_count": null,
   "metadata": {},
   "outputs": [],
   "source": [
    "search_pipeline_missing = Pipeline([\n",
    "    (\"imputer\", \"passthrough\"),\n",
    "    (\"transformer\", \"passthrough\"),\n",
    "    (\"classifier\", next(iter(classifiers.values())))\n",
    "])\n",
    "\n",
    "search_pipeline_full = Pipeline([\n",
    "    (\"transformer\", \"passthrough\"),\n",
    "    (\"classifier\", next(iter(classifiers.values())))\n",
    "])"
   ]
  },
  {
   "cell_type": "code",
   "execution_count": null,
   "metadata": {},
   "outputs": [],
   "source": [
    "grid_search_missing = GridSearchCV(search_pipeline_missing, {\n",
    "    \"imputer\": list(imputers.values()),\n",
    "    \"transformer\": list(transformers.values()),\n",
    "    \"classifier\": list(classifiers.values())\n",
    "}, n_jobs=-1)\n",
    "\n",
    "grid_search_missing.fit(X_missing_train, Y_missing_train)\n",
    "\n",
    "print(grid_search_missing.best_score_)\n",
    "best_pipeline = grid_search_missing.best_estimator_\n",
    "best_pipeline"
   ]
  },
  {
   "cell_type": "code",
   "execution_count": null,
   "metadata": {},
   "outputs": [],
   "source": [
    "grid_search_full = GridSearchCV(search_pipeline_full, {\n",
    "    \"transformer\": list(transformers.values()),\n",
    "    \"classifier\": list(classifiers.values())\n",
    "}, n_jobs=-1)\n",
    "\n",
    "grid_search_full.fit(X_full_train, Y_full_train)\n",
    "\n",
    "print(grid_search_full.best_score_)\n",
    "best_pipeline = grid_search_full.best_estimator_\n",
    "best_pipeline"
   ]
  },
  {
   "attachments": {},
   "cell_type": "markdown",
   "metadata": {},
   "source": [
    "# Results"
   ]
  },
  {
   "cell_type": "code",
   "execution_count": null,
   "metadata": {},
   "outputs": [],
   "source": [
    "def lookup(what, where):\n",
    "    match where:\n",
    "        case \"imputer\":\n",
    "            d = imputers\n",
    "        case \"transformer\":\n",
    "            d = transformers\n",
    "        case \"classifier\":\n",
    "            d = classifiers\n",
    "    return next(k for k in d if d[k] == what)\n",
    "\n",
    "polska_gurom = {\"classifier\": \"Klasyfikator\", \"transformer\": \"Przetwarzanie danych\", \"imputer\": \"Uzupełnianie danych\"}"
   ]
  },
  {
   "cell_type": "code",
   "execution_count": null,
   "metadata": {},
   "outputs": [],
   "source": [
    "\n",
    "res = grid_search_missing.cv_results_\n",
    "for i, p in enumerate(grid_search_missing.best_params_.keys()):\n",
    "    x, y, std = zip(*sorted([\n",
    "        max([\n",
    "            (lookup(param, p), entry[1], entry[2])\n",
    "            for entry in zip(res[\"params\"], res[\"mean_test_score\"], res[\"std_test_score\"])\n",
    "            if entry[0][p] == param\n",
    "        ], key=lambda x: x[1])\n",
    "        for param in grid_search_missing.param_grid[p]\n",
    "    ], key=lambda x: x[1]))\n",
    "\n",
    "    ax = plt.axes()\n",
    "    bar_val = ax.barh(x, y, xerr=std)\n",
    "    ax.bar_label(bar_val, label_type='center')\n",
    "    ax.set_title(polska_gurom[p])\n",
    "    ax.set_xlabel(\"Dokładność\")\n",
    "    plt.show()"
   ]
  },
  {
   "cell_type": "code",
   "execution_count": null,
   "metadata": {},
   "outputs": [],
   "source": [
    "\n",
    "res = grid_search_full.cv_results_\n",
    "for i, p in enumerate(grid_search_full.best_params_.keys()):\n",
    "    x, y, std = zip(*sorted([\n",
    "        max([\n",
    "            (lookup(param, p), entry[1], entry[2])\n",
    "            for entry in zip(res[\"params\"], res[\"mean_test_score\"], res[\"std_test_score\"])\n",
    "            if entry[0][p] == param\n",
    "        ], key=lambda x: x[1])\n",
    "        for param in grid_search_full.param_grid[p]\n",
    "    ], key=lambda x: x[1]))\n",
    "\n",
    "    ax = plt.axes()\n",
    "    bar_val = ax.barh(x, y, xerr=std)\n",
    "    ax.bar_label(bar_val, label_type='center')\n",
    "    ax.set_title(polska_gurom[p])\n",
    "    ax.set_xlabel(\"Dokładność\")\n",
    "    plt.show()"
   ]
  },
  {
   "cell_type": "code",
   "execution_count": null,
   "metadata": {},
   "outputs": [],
   "source": [
    "forest_grid = GridSearchCV(\n",
    "    make_pipeline(\n",
    "        \"passthrough\",\n",
    "        RandomForestClassifier(random_state=fixed_rng)\n",
    "    ),\n",
    "    {\n",
    "        \"randomforestclassifier__n_estimators\": np.arange(1, 150, 5)\n",
    "    },\n",
    "    n_jobs=-1\n",
    ")\n",
    "\n",
    "forest_grid.fit(X_full_train, Y_full_train)"
   ]
  },
  {
   "cell_type": "code",
   "execution_count": null,
   "metadata": {},
   "outputs": [],
   "source": [
    "res = sns.lineplot(data=pd.DataFrame({\n",
    "    \"n_estimators\": forest_grid.cv_results_[\"param_randomforestclassifier__n_estimators\"],\n",
    "    \"score\": forest_grid.cv_results_[\"mean_test_score\"]\n",
    "}), x=\"n_estimators\", y=\"score\", errorbar=\"se\", )\n",
    "\n",
    "res.set(xlabel=\"Liczba estymatorów\", ylabel=\"Dokładność\")"
   ]
  },
  {
   "cell_type": "code",
   "execution_count": null,
   "metadata": {},
   "outputs": [],
   "source": [
    "grid = GridSearchCV(\n",
    "    make_pipeline(\n",
    "        SimpleImputer(strategy=\"most_frequent\"),\n",
    "        \"passthrough\",\n",
    "        RandomForestClassifier(random_state=fixed_rng)\n",
    "    ),\n",
    "    {},\n",
    "    n_jobs=-1\n",
    ")\n",
    "\n",
    "grid.fit(X_full_train, Y_full_train)\n",
    "estimator = grid.best_estimator_"
   ]
  },
  {
   "cell_type": "code",
   "execution_count": null,
   "metadata": {},
   "outputs": [],
   "source": [
    "estimator.fit(X_full_train, Y_full_train)\n",
    "predictions = estimator.predict(X_full_test)\n",
    "print(accuracy_score(Y_full_test, predictions))\n",
    "print(classification_report(Y_full_test, predictions))"
   ]
  },
  {
   "cell_type": "code",
   "execution_count": null,
   "metadata": {},
   "outputs": [],
   "source": [
    "estimator.fit(X_missing_train, Y_missing_train)\n",
    "predictions = estimator.predict(X_missing_test)\n",
    "print(accuracy_score(Y_missing_test, predictions))\n",
    "print(classification_report(Y_missing_test, predictions))"
   ]
  }
 ],
 "metadata": {
  "kernelspec": {
   "display_name": "Python 3",
   "language": "python",
   "name": "python3"
  },
  "language_info": {
   "codemirror_mode": {
    "name": "ipython",
    "version": 3
   },
   "file_extension": ".py",
   "mimetype": "text/x-python",
   "name": "python",
   "nbconvert_exporter": "python",
   "pygments_lexer": "ipython3",
   "version": "3.10.8"
  }
 },
 "nbformat": 4,
 "nbformat_minor": 2
}
